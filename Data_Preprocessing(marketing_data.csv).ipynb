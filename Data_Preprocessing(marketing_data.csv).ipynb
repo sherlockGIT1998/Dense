{
 "cells": [
  {
   "cell_type": "code",
   "execution_count": 4,
   "id": "d3752cca",
   "metadata": {},
   "outputs": [],
   "source": [
    "# Importing all important Libraries\n",
    "\n",
    "import pandas as pd\n",
    "\n",
    "import numpy as np\n",
    "\n",
    "import seaborn as sns\n",
    "\n",
    "import matplotlib as plt\n",
    "\n",
    "import warnings\n",
    "\n",
    "warnings.filterwarnings('ignore')\n",
    "\n",
    "from IPython import display\n",
    "\n",
    "pd.set_option('display.max_columns',None)\n",
    "\n",
    "pd.set_option('display.max_rows',None)"
   ]
  },
  {
   "cell_type": "markdown",
   "id": "f0b60dd1",
   "metadata": {},
   "source": [
    "## Data Collection :"
   ]
  },
  {
   "cell_type": "code",
   "execution_count": 5,
   "id": "e99df89c",
   "metadata": {},
   "outputs": [
    {
     "data": {
      "text/html": [
       "<div>\n",
       "<style scoped>\n",
       "    .dataframe tbody tr th:only-of-type {\n",
       "        vertical-align: middle;\n",
       "    }\n",
       "\n",
       "    .dataframe tbody tr th {\n",
       "        vertical-align: top;\n",
       "    }\n",
       "\n",
       "    .dataframe thead th {\n",
       "        text-align: right;\n",
       "    }\n",
       "</style>\n",
       "<table border=\"1\" class=\"dataframe\">\n",
       "  <thead>\n",
       "    <tr style=\"text-align: right;\">\n",
       "      <th></th>\n",
       "      <th>ID</th>\n",
       "      <th>Year_Birth</th>\n",
       "      <th>Education</th>\n",
       "      <th>Marital_Status</th>\n",
       "      <th>Income</th>\n",
       "      <th>Kidhome</th>\n",
       "      <th>Teenhome</th>\n",
       "      <th>Dt_Customer</th>\n",
       "      <th>Recency</th>\n",
       "      <th>MntWines</th>\n",
       "      <th>MntFruits</th>\n",
       "      <th>MntMeatProducts</th>\n",
       "      <th>MntFishProducts</th>\n",
       "      <th>MntSweetProducts</th>\n",
       "      <th>MntGoldProds</th>\n",
       "      <th>NumDealsPurchases</th>\n",
       "      <th>NumWebPurchases</th>\n",
       "      <th>NumCatalogPurchases</th>\n",
       "      <th>NumStorePurchases</th>\n",
       "      <th>NumWebVisitsMonth</th>\n",
       "      <th>AcceptedCmp3</th>\n",
       "      <th>AcceptedCmp4</th>\n",
       "      <th>AcceptedCmp5</th>\n",
       "      <th>AcceptedCmp1</th>\n",
       "      <th>AcceptedCmp2</th>\n",
       "      <th>Response</th>\n",
       "      <th>Complain</th>\n",
       "      <th>Country</th>\n",
       "    </tr>\n",
       "  </thead>\n",
       "  <tbody>\n",
       "    <tr>\n",
       "      <th>0</th>\n",
       "      <td>1826</td>\n",
       "      <td>1970</td>\n",
       "      <td>Graduation</td>\n",
       "      <td>Divorced</td>\n",
       "      <td>84835.0</td>\n",
       "      <td>0</td>\n",
       "      <td>0</td>\n",
       "      <td>2014-06-16</td>\n",
       "      <td>0</td>\n",
       "      <td>189</td>\n",
       "      <td>104</td>\n",
       "      <td>379</td>\n",
       "      <td>111</td>\n",
       "      <td>189</td>\n",
       "      <td>218</td>\n",
       "      <td>1</td>\n",
       "      <td>4</td>\n",
       "      <td>4</td>\n",
       "      <td>6</td>\n",
       "      <td>1</td>\n",
       "      <td>0</td>\n",
       "      <td>0</td>\n",
       "      <td>0</td>\n",
       "      <td>0</td>\n",
       "      <td>0</td>\n",
       "      <td>1</td>\n",
       "      <td>0</td>\n",
       "      <td>Spain</td>\n",
       "    </tr>\n",
       "    <tr>\n",
       "      <th>1</th>\n",
       "      <td>1</td>\n",
       "      <td>1961</td>\n",
       "      <td>Graduation</td>\n",
       "      <td>Single</td>\n",
       "      <td>57091.0</td>\n",
       "      <td>0</td>\n",
       "      <td>0</td>\n",
       "      <td>2014-06-15</td>\n",
       "      <td>0</td>\n",
       "      <td>464</td>\n",
       "      <td>5</td>\n",
       "      <td>64</td>\n",
       "      <td>7</td>\n",
       "      <td>0</td>\n",
       "      <td>37</td>\n",
       "      <td>1</td>\n",
       "      <td>7</td>\n",
       "      <td>3</td>\n",
       "      <td>7</td>\n",
       "      <td>5</td>\n",
       "      <td>0</td>\n",
       "      <td>0</td>\n",
       "      <td>0</td>\n",
       "      <td>0</td>\n",
       "      <td>1</td>\n",
       "      <td>1</td>\n",
       "      <td>0</td>\n",
       "      <td>Canada</td>\n",
       "    </tr>\n",
       "    <tr>\n",
       "      <th>2</th>\n",
       "      <td>10476</td>\n",
       "      <td>1958</td>\n",
       "      <td>Graduation</td>\n",
       "      <td>Married</td>\n",
       "      <td>67267.0</td>\n",
       "      <td>0</td>\n",
       "      <td>1</td>\n",
       "      <td>2014-05-13</td>\n",
       "      <td>0</td>\n",
       "      <td>134</td>\n",
       "      <td>11</td>\n",
       "      <td>59</td>\n",
       "      <td>15</td>\n",
       "      <td>2</td>\n",
       "      <td>30</td>\n",
       "      <td>1</td>\n",
       "      <td>3</td>\n",
       "      <td>2</td>\n",
       "      <td>5</td>\n",
       "      <td>2</td>\n",
       "      <td>0</td>\n",
       "      <td>0</td>\n",
       "      <td>0</td>\n",
       "      <td>0</td>\n",
       "      <td>0</td>\n",
       "      <td>0</td>\n",
       "      <td>0</td>\n",
       "      <td>USA</td>\n",
       "    </tr>\n",
       "    <tr>\n",
       "      <th>3</th>\n",
       "      <td>1386</td>\n",
       "      <td>1967</td>\n",
       "      <td>Graduation</td>\n",
       "      <td>Together</td>\n",
       "      <td>32474.0</td>\n",
       "      <td>1</td>\n",
       "      <td>1</td>\n",
       "      <td>2014-05-11</td>\n",
       "      <td>0</td>\n",
       "      <td>10</td>\n",
       "      <td>0</td>\n",
       "      <td>1</td>\n",
       "      <td>0</td>\n",
       "      <td>0</td>\n",
       "      <td>0</td>\n",
       "      <td>1</td>\n",
       "      <td>1</td>\n",
       "      <td>0</td>\n",
       "      <td>2</td>\n",
       "      <td>7</td>\n",
       "      <td>0</td>\n",
       "      <td>0</td>\n",
       "      <td>0</td>\n",
       "      <td>0</td>\n",
       "      <td>0</td>\n",
       "      <td>0</td>\n",
       "      <td>0</td>\n",
       "      <td>Australia</td>\n",
       "    </tr>\n",
       "    <tr>\n",
       "      <th>4</th>\n",
       "      <td>5371</td>\n",
       "      <td>1989</td>\n",
       "      <td>Graduation</td>\n",
       "      <td>Single</td>\n",
       "      <td>21474.0</td>\n",
       "      <td>1</td>\n",
       "      <td>0</td>\n",
       "      <td>2014-04-08</td>\n",
       "      <td>0</td>\n",
       "      <td>6</td>\n",
       "      <td>16</td>\n",
       "      <td>24</td>\n",
       "      <td>11</td>\n",
       "      <td>0</td>\n",
       "      <td>34</td>\n",
       "      <td>2</td>\n",
       "      <td>3</td>\n",
       "      <td>1</td>\n",
       "      <td>2</td>\n",
       "      <td>7</td>\n",
       "      <td>1</td>\n",
       "      <td>0</td>\n",
       "      <td>0</td>\n",
       "      <td>0</td>\n",
       "      <td>0</td>\n",
       "      <td>1</td>\n",
       "      <td>0</td>\n",
       "      <td>Spain</td>\n",
       "    </tr>\n",
       "  </tbody>\n",
       "</table>\n",
       "</div>"
      ],
      "text/plain": [
       "      ID  Year_Birth   Education Marital_Status   Income   Kidhome  Teenhome  \\\n",
       "0   1826        1970  Graduation       Divorced   84835.0        0         0   \n",
       "1      1        1961  Graduation         Single   57091.0        0         0   \n",
       "2  10476        1958  Graduation        Married   67267.0        0         1   \n",
       "3   1386        1967  Graduation       Together   32474.0        1         1   \n",
       "4   5371        1989  Graduation         Single   21474.0        1         0   \n",
       "\n",
       "  Dt_Customer  Recency  MntWines  MntFruits  MntMeatProducts  MntFishProducts  \\\n",
       "0  2014-06-16        0       189        104              379              111   \n",
       "1  2014-06-15        0       464          5               64                7   \n",
       "2  2014-05-13        0       134         11               59               15   \n",
       "3  2014-05-11        0        10          0                1                0   \n",
       "4  2014-04-08        0         6         16               24               11   \n",
       "\n",
       "   MntSweetProducts  MntGoldProds  NumDealsPurchases  NumWebPurchases  \\\n",
       "0               189           218                  1                4   \n",
       "1                 0            37                  1                7   \n",
       "2                 2            30                  1                3   \n",
       "3                 0             0                  1                1   \n",
       "4                 0            34                  2                3   \n",
       "\n",
       "   NumCatalogPurchases  NumStorePurchases  NumWebVisitsMonth  AcceptedCmp3  \\\n",
       "0                    4                  6                  1             0   \n",
       "1                    3                  7                  5             0   \n",
       "2                    2                  5                  2             0   \n",
       "3                    0                  2                  7             0   \n",
       "4                    1                  2                  7             1   \n",
       "\n",
       "   AcceptedCmp4  AcceptedCmp5  AcceptedCmp1  AcceptedCmp2  Response  Complain  \\\n",
       "0             0             0             0             0         1         0   \n",
       "1             0             0             0             1         1         0   \n",
       "2             0             0             0             0         0         0   \n",
       "3             0             0             0             0         0         0   \n",
       "4             0             0             0             0         1         0   \n",
       "\n",
       "     Country  \n",
       "0      Spain  \n",
       "1     Canada  \n",
       "2        USA  \n",
       "3  Australia  \n",
       "4      Spain  "
      ]
     },
     "execution_count": 5,
     "metadata": {},
     "output_type": "execute_result"
    }
   ],
   "source": [
    "df = pd.read_csv('marketing_data.csv')\n",
    "df.head()"
   ]
  },
  {
   "cell_type": "markdown",
   "id": "473a30a3",
   "metadata": {},
   "source": [
    "## Data Preprocessing :"
   ]
  },
  {
   "cell_type": "code",
   "execution_count": 3,
   "id": "921834db",
   "metadata": {},
   "outputs": [
    {
     "name": "stdout",
     "output_type": "stream",
     "text": [
      "<class 'pandas.core.frame.DataFrame'>\n",
      "RangeIndex: 2240 entries, 0 to 2239\n",
      "Data columns (total 28 columns):\n",
      " #   Column               Non-Null Count  Dtype  \n",
      "---  ------               --------------  -----  \n",
      " 0   ID                   2240 non-null   int64  \n",
      " 1   Year_Birth           2240 non-null   int64  \n",
      " 2   Education            2240 non-null   object \n",
      " 3   Marital_Status       2240 non-null   object \n",
      " 4    Income              2216 non-null   float64\n",
      " 5   Kidhome              2240 non-null   int64  \n",
      " 6   Teenhome             2240 non-null   int64  \n",
      " 7   Dt_Customer          2240 non-null   object \n",
      " 8   Recency              2240 non-null   int64  \n",
      " 9   MntWines             2240 non-null   int64  \n",
      " 10  MntFruits            2240 non-null   int64  \n",
      " 11  MntMeatProducts      2240 non-null   int64  \n",
      " 12  MntFishProducts      2240 non-null   int64  \n",
      " 13  MntSweetProducts     2240 non-null   int64  \n",
      " 14  MntGoldProds         2240 non-null   int64  \n",
      " 15  NumDealsPurchases    2240 non-null   int64  \n",
      " 16  NumWebPurchases      2240 non-null   int64  \n",
      " 17  NumCatalogPurchases  2240 non-null   int64  \n",
      " 18  NumStorePurchases    2240 non-null   int64  \n",
      " 19  NumWebVisitsMonth    2240 non-null   int64  \n",
      " 20  AcceptedCmp3         2240 non-null   int64  \n",
      " 21  AcceptedCmp4         2240 non-null   int64  \n",
      " 22  AcceptedCmp5         2240 non-null   int64  \n",
      " 23  AcceptedCmp1         2240 non-null   int64  \n",
      " 24  AcceptedCmp2         2240 non-null   int64  \n",
      " 25  Response             2240 non-null   int64  \n",
      " 26  Complain             2240 non-null   int64  \n",
      " 27  Country              2240 non-null   object \n",
      "dtypes: float64(1), int64(23), object(4)\n",
      "memory usage: 490.1+ KB\n"
     ]
    }
   ],
   "source": [
    "df.info()"
   ]
  },
  {
   "cell_type": "code",
   "execution_count": 4,
   "id": "9b0aaa29",
   "metadata": {},
   "outputs": [
    {
     "data": {
      "text/html": [
       "<div>\n",
       "<style scoped>\n",
       "    .dataframe tbody tr th:only-of-type {\n",
       "        vertical-align: middle;\n",
       "    }\n",
       "\n",
       "    .dataframe tbody tr th {\n",
       "        vertical-align: top;\n",
       "    }\n",
       "\n",
       "    .dataframe thead th {\n",
       "        text-align: right;\n",
       "    }\n",
       "</style>\n",
       "<table border=\"1\" class=\"dataframe\">\n",
       "  <thead>\n",
       "    <tr style=\"text-align: right;\">\n",
       "      <th></th>\n",
       "      <th>ID</th>\n",
       "      <th>Year_Birth</th>\n",
       "      <th>Income</th>\n",
       "      <th>Kidhome</th>\n",
       "      <th>Teenhome</th>\n",
       "      <th>Recency</th>\n",
       "      <th>MntWines</th>\n",
       "      <th>MntFruits</th>\n",
       "      <th>MntMeatProducts</th>\n",
       "      <th>MntFishProducts</th>\n",
       "      <th>MntSweetProducts</th>\n",
       "      <th>MntGoldProds</th>\n",
       "      <th>NumDealsPurchases</th>\n",
       "      <th>NumWebPurchases</th>\n",
       "      <th>NumCatalogPurchases</th>\n",
       "      <th>NumStorePurchases</th>\n",
       "      <th>NumWebVisitsMonth</th>\n",
       "      <th>AcceptedCmp3</th>\n",
       "      <th>AcceptedCmp4</th>\n",
       "      <th>AcceptedCmp5</th>\n",
       "      <th>AcceptedCmp1</th>\n",
       "      <th>AcceptedCmp2</th>\n",
       "      <th>Response</th>\n",
       "      <th>Complain</th>\n",
       "    </tr>\n",
       "  </thead>\n",
       "  <tbody>\n",
       "    <tr>\n",
       "      <th>count</th>\n",
       "      <td>2240.000000</td>\n",
       "      <td>2240.000000</td>\n",
       "      <td>2216.000000</td>\n",
       "      <td>2240.000000</td>\n",
       "      <td>2240.000000</td>\n",
       "      <td>2240.000000</td>\n",
       "      <td>2240.000000</td>\n",
       "      <td>2240.000000</td>\n",
       "      <td>2240.000000</td>\n",
       "      <td>2240.000000</td>\n",
       "      <td>2240.000000</td>\n",
       "      <td>2240.000000</td>\n",
       "      <td>2240.000000</td>\n",
       "      <td>2240.000000</td>\n",
       "      <td>2240.000000</td>\n",
       "      <td>2240.000000</td>\n",
       "      <td>2240.000000</td>\n",
       "      <td>2240.000000</td>\n",
       "      <td>2240.000000</td>\n",
       "      <td>2240.000000</td>\n",
       "      <td>2240.000000</td>\n",
       "      <td>2240.000000</td>\n",
       "      <td>2240.000000</td>\n",
       "      <td>2240.000000</td>\n",
       "    </tr>\n",
       "    <tr>\n",
       "      <th>mean</th>\n",
       "      <td>5592.159821</td>\n",
       "      <td>1968.805804</td>\n",
       "      <td>52247.251354</td>\n",
       "      <td>0.444196</td>\n",
       "      <td>0.506250</td>\n",
       "      <td>49.109375</td>\n",
       "      <td>303.935714</td>\n",
       "      <td>26.302232</td>\n",
       "      <td>166.950000</td>\n",
       "      <td>37.525446</td>\n",
       "      <td>27.062946</td>\n",
       "      <td>44.021875</td>\n",
       "      <td>2.325000</td>\n",
       "      <td>4.084821</td>\n",
       "      <td>2.662054</td>\n",
       "      <td>5.790179</td>\n",
       "      <td>5.316518</td>\n",
       "      <td>0.072768</td>\n",
       "      <td>0.074554</td>\n",
       "      <td>0.072768</td>\n",
       "      <td>0.064286</td>\n",
       "      <td>0.013393</td>\n",
       "      <td>0.149107</td>\n",
       "      <td>0.009375</td>\n",
       "    </tr>\n",
       "    <tr>\n",
       "      <th>std</th>\n",
       "      <td>3246.662198</td>\n",
       "      <td>11.984069</td>\n",
       "      <td>25173.076661</td>\n",
       "      <td>0.538398</td>\n",
       "      <td>0.544538</td>\n",
       "      <td>28.962453</td>\n",
       "      <td>336.597393</td>\n",
       "      <td>39.773434</td>\n",
       "      <td>225.715373</td>\n",
       "      <td>54.628979</td>\n",
       "      <td>41.280498</td>\n",
       "      <td>52.167439</td>\n",
       "      <td>1.932238</td>\n",
       "      <td>2.778714</td>\n",
       "      <td>2.923101</td>\n",
       "      <td>3.250958</td>\n",
       "      <td>2.426645</td>\n",
       "      <td>0.259813</td>\n",
       "      <td>0.262728</td>\n",
       "      <td>0.259813</td>\n",
       "      <td>0.245316</td>\n",
       "      <td>0.114976</td>\n",
       "      <td>0.356274</td>\n",
       "      <td>0.096391</td>\n",
       "    </tr>\n",
       "    <tr>\n",
       "      <th>min</th>\n",
       "      <td>0.000000</td>\n",
       "      <td>1893.000000</td>\n",
       "      <td>1730.000000</td>\n",
       "      <td>0.000000</td>\n",
       "      <td>0.000000</td>\n",
       "      <td>0.000000</td>\n",
       "      <td>0.000000</td>\n",
       "      <td>0.000000</td>\n",
       "      <td>0.000000</td>\n",
       "      <td>0.000000</td>\n",
       "      <td>0.000000</td>\n",
       "      <td>0.000000</td>\n",
       "      <td>0.000000</td>\n",
       "      <td>0.000000</td>\n",
       "      <td>0.000000</td>\n",
       "      <td>0.000000</td>\n",
       "      <td>0.000000</td>\n",
       "      <td>0.000000</td>\n",
       "      <td>0.000000</td>\n",
       "      <td>0.000000</td>\n",
       "      <td>0.000000</td>\n",
       "      <td>0.000000</td>\n",
       "      <td>0.000000</td>\n",
       "      <td>0.000000</td>\n",
       "    </tr>\n",
       "    <tr>\n",
       "      <th>25%</th>\n",
       "      <td>2828.250000</td>\n",
       "      <td>1959.000000</td>\n",
       "      <td>35303.000000</td>\n",
       "      <td>0.000000</td>\n",
       "      <td>0.000000</td>\n",
       "      <td>24.000000</td>\n",
       "      <td>23.750000</td>\n",
       "      <td>1.000000</td>\n",
       "      <td>16.000000</td>\n",
       "      <td>3.000000</td>\n",
       "      <td>1.000000</td>\n",
       "      <td>9.000000</td>\n",
       "      <td>1.000000</td>\n",
       "      <td>2.000000</td>\n",
       "      <td>0.000000</td>\n",
       "      <td>3.000000</td>\n",
       "      <td>3.000000</td>\n",
       "      <td>0.000000</td>\n",
       "      <td>0.000000</td>\n",
       "      <td>0.000000</td>\n",
       "      <td>0.000000</td>\n",
       "      <td>0.000000</td>\n",
       "      <td>0.000000</td>\n",
       "      <td>0.000000</td>\n",
       "    </tr>\n",
       "    <tr>\n",
       "      <th>50%</th>\n",
       "      <td>5458.500000</td>\n",
       "      <td>1970.000000</td>\n",
       "      <td>51381.500000</td>\n",
       "      <td>0.000000</td>\n",
       "      <td>0.000000</td>\n",
       "      <td>49.000000</td>\n",
       "      <td>173.500000</td>\n",
       "      <td>8.000000</td>\n",
       "      <td>67.000000</td>\n",
       "      <td>12.000000</td>\n",
       "      <td>8.000000</td>\n",
       "      <td>24.000000</td>\n",
       "      <td>2.000000</td>\n",
       "      <td>4.000000</td>\n",
       "      <td>2.000000</td>\n",
       "      <td>5.000000</td>\n",
       "      <td>6.000000</td>\n",
       "      <td>0.000000</td>\n",
       "      <td>0.000000</td>\n",
       "      <td>0.000000</td>\n",
       "      <td>0.000000</td>\n",
       "      <td>0.000000</td>\n",
       "      <td>0.000000</td>\n",
       "      <td>0.000000</td>\n",
       "    </tr>\n",
       "    <tr>\n",
       "      <th>75%</th>\n",
       "      <td>8427.750000</td>\n",
       "      <td>1977.000000</td>\n",
       "      <td>68522.000000</td>\n",
       "      <td>1.000000</td>\n",
       "      <td>1.000000</td>\n",
       "      <td>74.000000</td>\n",
       "      <td>504.250000</td>\n",
       "      <td>33.000000</td>\n",
       "      <td>232.000000</td>\n",
       "      <td>50.000000</td>\n",
       "      <td>33.000000</td>\n",
       "      <td>56.000000</td>\n",
       "      <td>3.000000</td>\n",
       "      <td>6.000000</td>\n",
       "      <td>4.000000</td>\n",
       "      <td>8.000000</td>\n",
       "      <td>7.000000</td>\n",
       "      <td>0.000000</td>\n",
       "      <td>0.000000</td>\n",
       "      <td>0.000000</td>\n",
       "      <td>0.000000</td>\n",
       "      <td>0.000000</td>\n",
       "      <td>0.000000</td>\n",
       "      <td>0.000000</td>\n",
       "    </tr>\n",
       "    <tr>\n",
       "      <th>max</th>\n",
       "      <td>11191.000000</td>\n",
       "      <td>1996.000000</td>\n",
       "      <td>666666.000000</td>\n",
       "      <td>2.000000</td>\n",
       "      <td>2.000000</td>\n",
       "      <td>99.000000</td>\n",
       "      <td>1493.000000</td>\n",
       "      <td>199.000000</td>\n",
       "      <td>1725.000000</td>\n",
       "      <td>259.000000</td>\n",
       "      <td>263.000000</td>\n",
       "      <td>362.000000</td>\n",
       "      <td>15.000000</td>\n",
       "      <td>27.000000</td>\n",
       "      <td>28.000000</td>\n",
       "      <td>13.000000</td>\n",
       "      <td>20.000000</td>\n",
       "      <td>1.000000</td>\n",
       "      <td>1.000000</td>\n",
       "      <td>1.000000</td>\n",
       "      <td>1.000000</td>\n",
       "      <td>1.000000</td>\n",
       "      <td>1.000000</td>\n",
       "      <td>1.000000</td>\n",
       "    </tr>\n",
       "  </tbody>\n",
       "</table>\n",
       "</div>"
      ],
      "text/plain": [
       "                 ID   Year_Birth        Income       Kidhome     Teenhome  \\\n",
       "count   2240.000000  2240.000000    2216.000000  2240.000000  2240.000000   \n",
       "mean    5592.159821  1968.805804   52247.251354     0.444196     0.506250   \n",
       "std     3246.662198    11.984069   25173.076661     0.538398     0.544538   \n",
       "min        0.000000  1893.000000    1730.000000     0.000000     0.000000   \n",
       "25%     2828.250000  1959.000000   35303.000000     0.000000     0.000000   \n",
       "50%     5458.500000  1970.000000   51381.500000     0.000000     0.000000   \n",
       "75%     8427.750000  1977.000000   68522.000000     1.000000     1.000000   \n",
       "max    11191.000000  1996.000000  666666.000000     2.000000     2.000000   \n",
       "\n",
       "           Recency     MntWines    MntFruits  MntMeatProducts  \\\n",
       "count  2240.000000  2240.000000  2240.000000      2240.000000   \n",
       "mean     49.109375   303.935714    26.302232       166.950000   \n",
       "std      28.962453   336.597393    39.773434       225.715373   \n",
       "min       0.000000     0.000000     0.000000         0.000000   \n",
       "25%      24.000000    23.750000     1.000000        16.000000   \n",
       "50%      49.000000   173.500000     8.000000        67.000000   \n",
       "75%      74.000000   504.250000    33.000000       232.000000   \n",
       "max      99.000000  1493.000000   199.000000      1725.000000   \n",
       "\n",
       "       MntFishProducts  MntSweetProducts  MntGoldProds  NumDealsPurchases  \\\n",
       "count      2240.000000       2240.000000   2240.000000        2240.000000   \n",
       "mean         37.525446         27.062946     44.021875           2.325000   \n",
       "std          54.628979         41.280498     52.167439           1.932238   \n",
       "min           0.000000          0.000000      0.000000           0.000000   \n",
       "25%           3.000000          1.000000      9.000000           1.000000   \n",
       "50%          12.000000          8.000000     24.000000           2.000000   \n",
       "75%          50.000000         33.000000     56.000000           3.000000   \n",
       "max         259.000000        263.000000    362.000000          15.000000   \n",
       "\n",
       "       NumWebPurchases  NumCatalogPurchases  NumStorePurchases  \\\n",
       "count      2240.000000          2240.000000        2240.000000   \n",
       "mean          4.084821             2.662054           5.790179   \n",
       "std           2.778714             2.923101           3.250958   \n",
       "min           0.000000             0.000000           0.000000   \n",
       "25%           2.000000             0.000000           3.000000   \n",
       "50%           4.000000             2.000000           5.000000   \n",
       "75%           6.000000             4.000000           8.000000   \n",
       "max          27.000000            28.000000          13.000000   \n",
       "\n",
       "       NumWebVisitsMonth  AcceptedCmp3  AcceptedCmp4  AcceptedCmp5  \\\n",
       "count        2240.000000   2240.000000   2240.000000   2240.000000   \n",
       "mean            5.316518      0.072768      0.074554      0.072768   \n",
       "std             2.426645      0.259813      0.262728      0.259813   \n",
       "min             0.000000      0.000000      0.000000      0.000000   \n",
       "25%             3.000000      0.000000      0.000000      0.000000   \n",
       "50%             6.000000      0.000000      0.000000      0.000000   \n",
       "75%             7.000000      0.000000      0.000000      0.000000   \n",
       "max            20.000000      1.000000      1.000000      1.000000   \n",
       "\n",
       "       AcceptedCmp1  AcceptedCmp2     Response     Complain  \n",
       "count   2240.000000   2240.000000  2240.000000  2240.000000  \n",
       "mean       0.064286      0.013393     0.149107     0.009375  \n",
       "std        0.245316      0.114976     0.356274     0.096391  \n",
       "min        0.000000      0.000000     0.000000     0.000000  \n",
       "25%        0.000000      0.000000     0.000000     0.000000  \n",
       "50%        0.000000      0.000000     0.000000     0.000000  \n",
       "75%        0.000000      0.000000     0.000000     0.000000  \n",
       "max        1.000000      1.000000     1.000000     1.000000  "
      ]
     },
     "execution_count": 4,
     "metadata": {},
     "output_type": "execute_result"
    }
   ],
   "source": [
    "df.describe()"
   ]
  },
  {
   "cell_type": "code",
   "execution_count": 5,
   "id": "92b85abe",
   "metadata": {},
   "outputs": [
    {
     "data": {
      "text/plain": [
       "ID                     2240\n",
       "Year_Birth               59\n",
       "Education                 5\n",
       "Marital_Status            8\n",
       " Income                1974\n",
       "Kidhome                   3\n",
       "Teenhome                  3\n",
       "Dt_Customer             663\n",
       "Recency                 100\n",
       "MntWines                776\n",
       "MntFruits               158\n",
       "MntMeatProducts         558\n",
       "MntFishProducts         182\n",
       "MntSweetProducts        177\n",
       "MntGoldProds            213\n",
       "NumDealsPurchases        15\n",
       "NumWebPurchases          15\n",
       "NumCatalogPurchases      14\n",
       "NumStorePurchases        14\n",
       "NumWebVisitsMonth        16\n",
       "AcceptedCmp3              2\n",
       "AcceptedCmp4              2\n",
       "AcceptedCmp5              2\n",
       "AcceptedCmp1              2\n",
       "AcceptedCmp2              2\n",
       "Response                  2\n",
       "Complain                  2\n",
       "Country                   8\n",
       "dtype: int64"
      ]
     },
     "execution_count": 5,
     "metadata": {},
     "output_type": "execute_result"
    }
   ],
   "source": [
    "df.nunique()"
   ]
  },
  {
   "cell_type": "code",
   "execution_count": 6,
   "id": "61ec13a9",
   "metadata": {},
   "outputs": [
    {
     "data": {
      "text/plain": [
       "(2240, 28)"
      ]
     },
     "execution_count": 6,
     "metadata": {},
     "output_type": "execute_result"
    }
   ],
   "source": [
    "df.shape"
   ]
  },
  {
   "cell_type": "code",
   "execution_count": 7,
   "id": "3a1002dc",
   "metadata": {},
   "outputs": [
    {
     "data": {
      "text/plain": [
       "[RangeIndex(start=0, stop=2240, step=1),\n",
       " Index(['ID', 'Year_Birth', 'Education', 'Marital_Status', ' Income ',\n",
       "        'Kidhome', 'Teenhome', 'Dt_Customer', 'Recency', 'MntWines',\n",
       "        'MntFruits', 'MntMeatProducts', 'MntFishProducts', 'MntSweetProducts',\n",
       "        'MntGoldProds', 'NumDealsPurchases', 'NumWebPurchases',\n",
       "        'NumCatalogPurchases', 'NumStorePurchases', 'NumWebVisitsMonth',\n",
       "        'AcceptedCmp3', 'AcceptedCmp4', 'AcceptedCmp5', 'AcceptedCmp1',\n",
       "        'AcceptedCmp2', 'Response', 'Complain', 'Country'],\n",
       "       dtype='object')]"
      ]
     },
     "execution_count": 7,
     "metadata": {},
     "output_type": "execute_result"
    }
   ],
   "source": [
    "df.axes"
   ]
  },
  {
   "cell_type": "code",
   "execution_count": 8,
   "id": "98ed9852",
   "metadata": {},
   "outputs": [
    {
     "data": {
      "text/plain": [
       "Index(['ID', 'Year_Birth', 'Education', 'Marital_Status', ' Income ',\n",
       "       'Kidhome', 'Teenhome', 'Dt_Customer', 'Recency', 'MntWines',\n",
       "       'MntFruits', 'MntMeatProducts', 'MntFishProducts', 'MntSweetProducts',\n",
       "       'MntGoldProds', 'NumDealsPurchases', 'NumWebPurchases',\n",
       "       'NumCatalogPurchases', 'NumStorePurchases', 'NumWebVisitsMonth',\n",
       "       'AcceptedCmp3', 'AcceptedCmp4', 'AcceptedCmp5', 'AcceptedCmp1',\n",
       "       'AcceptedCmp2', 'Response', 'Complain', 'Country'],\n",
       "      dtype='object')"
      ]
     },
     "execution_count": 8,
     "metadata": {},
     "output_type": "execute_result"
    }
   ],
   "source": [
    "df.columns"
   ]
  },
  {
   "cell_type": "code",
   "execution_count": 9,
   "id": "99fd10e5",
   "metadata": {},
   "outputs": [
    {
     "data": {
      "text/plain": [
       "RangeIndex(start=0, stop=2240, step=1)"
      ]
     },
     "execution_count": 9,
     "metadata": {},
     "output_type": "execute_result"
    }
   ],
   "source": [
    "df.index"
   ]
  },
  {
   "cell_type": "code",
   "execution_count": 10,
   "id": "2c0b9b13",
   "metadata": {},
   "outputs": [
    {
     "data": {
      "text/plain": [
       "ID                       int64\n",
       "Year_Birth               int64\n",
       "Education               object\n",
       "Marital_Status          object\n",
       " Income                float64\n",
       "Kidhome                  int64\n",
       "Teenhome                 int64\n",
       "Dt_Customer             object\n",
       "Recency                  int64\n",
       "MntWines                 int64\n",
       "MntFruits                int64\n",
       "MntMeatProducts          int64\n",
       "MntFishProducts          int64\n",
       "MntSweetProducts         int64\n",
       "MntGoldProds             int64\n",
       "NumDealsPurchases        int64\n",
       "NumWebPurchases          int64\n",
       "NumCatalogPurchases      int64\n",
       "NumStorePurchases        int64\n",
       "NumWebVisitsMonth        int64\n",
       "AcceptedCmp3             int64\n",
       "AcceptedCmp4             int64\n",
       "AcceptedCmp5             int64\n",
       "AcceptedCmp1             int64\n",
       "AcceptedCmp2             int64\n",
       "Response                 int64\n",
       "Complain                 int64\n",
       "Country                 object\n",
       "dtype: object"
      ]
     },
     "execution_count": 10,
     "metadata": {},
     "output_type": "execute_result"
    }
   ],
   "source": [
    "df.dtypes"
   ]
  },
  {
   "cell_type": "code",
   "execution_count": 11,
   "id": "2c04aa5e",
   "metadata": {},
   "outputs": [
    {
     "data": {
      "text/plain": [
       "ID                      0\n",
       "Year_Birth              0\n",
       "Education               0\n",
       "Marital_Status          0\n",
       " Income                24\n",
       "Kidhome                 0\n",
       "Teenhome                0\n",
       "Dt_Customer             0\n",
       "Recency                 0\n",
       "MntWines                0\n",
       "MntFruits               0\n",
       "MntMeatProducts         0\n",
       "MntFishProducts         0\n",
       "MntSweetProducts        0\n",
       "MntGoldProds            0\n",
       "NumDealsPurchases       0\n",
       "NumWebPurchases         0\n",
       "NumCatalogPurchases     0\n",
       "NumStorePurchases       0\n",
       "NumWebVisitsMonth       0\n",
       "AcceptedCmp3            0\n",
       "AcceptedCmp4            0\n",
       "AcceptedCmp5            0\n",
       "AcceptedCmp1            0\n",
       "AcceptedCmp2            0\n",
       "Response                0\n",
       "Complain                0\n",
       "Country                 0\n",
       "dtype: int64"
      ]
     },
     "execution_count": 11,
     "metadata": {},
     "output_type": "execute_result"
    }
   ],
   "source": [
    "df.isna().sum()"
   ]
  },
  {
   "cell_type": "code",
   "execution_count": 12,
   "id": "77a75136",
   "metadata": {},
   "outputs": [],
   "source": [
    "df.fillna(88888,inplace =True)"
   ]
  },
  {
   "cell_type": "code",
   "execution_count": 13,
   "id": "cd233d20",
   "metadata": {},
   "outputs": [
    {
     "data": {
      "text/plain": [
       "ID                     0\n",
       "Year_Birth             0\n",
       "Education              0\n",
       "Marital_Status         0\n",
       " Income                0\n",
       "Kidhome                0\n",
       "Teenhome               0\n",
       "Dt_Customer            0\n",
       "Recency                0\n",
       "MntWines               0\n",
       "MntFruits              0\n",
       "MntMeatProducts        0\n",
       "MntFishProducts        0\n",
       "MntSweetProducts       0\n",
       "MntGoldProds           0\n",
       "NumDealsPurchases      0\n",
       "NumWebPurchases        0\n",
       "NumCatalogPurchases    0\n",
       "NumStorePurchases      0\n",
       "NumWebVisitsMonth      0\n",
       "AcceptedCmp3           0\n",
       "AcceptedCmp4           0\n",
       "AcceptedCmp5           0\n",
       "AcceptedCmp1           0\n",
       "AcceptedCmp2           0\n",
       "Response               0\n",
       "Complain               0\n",
       "Country                0\n",
       "dtype: int64"
      ]
     },
     "execution_count": 13,
     "metadata": {},
     "output_type": "execute_result"
    }
   ],
   "source": [
    "df.isna().sum()"
   ]
  },
  {
   "cell_type": "markdown",
   "id": "82183ca4",
   "metadata": {},
   "source": [
    "## Data Visualization  :"
   ]
  },
  {
   "cell_type": "code",
   "execution_count": null,
   "id": "51a75d7e",
   "metadata": {},
   "outputs": [],
   "source": [
    "sns.histplot(df)"
   ]
  },
  {
   "cell_type": "code",
   "execution_count": null,
   "id": "f622ceae",
   "metadata": {},
   "outputs": [],
   "source": [
    "sns.boxplot(df)"
   ]
  },
  {
   "cell_type": "code",
   "execution_count": null,
   "id": "f03fe303",
   "metadata": {},
   "outputs": [],
   "source": [
    "sns.countplot(df)"
   ]
  },
  {
   "cell_type": "code",
   "execution_count": null,
   "id": "94b7472f",
   "metadata": {},
   "outputs": [],
   "source": [
    "sns.pairplot(df)"
   ]
  },
  {
   "cell_type": "code",
   "execution_count": null,
   "id": "d68d00c9",
   "metadata": {},
   "outputs": [],
   "source": [
    "sns.distplot(df['Recency'])"
   ]
  },
  {
   "cell_type": "markdown",
   "id": "a47cba21",
   "metadata": {},
   "source": [
    "## Comparing Numerical Features with Categorical Features :"
   ]
  },
  {
   "cell_type": "code",
   "execution_count": null,
   "id": "7254a2ad",
   "metadata": {},
   "outputs": [],
   "source": [
    "df.select_dtypes(include = 'object').head()"
   ]
  },
  {
   "cell_type": "code",
   "execution_count": null,
   "id": "82c9074d",
   "metadata": {},
   "outputs": [],
   "source": [
    "df.select_dtypes(exclude = 'object').head()"
   ]
  },
  {
   "cell_type": "markdown",
   "id": "c010fd3f",
   "metadata": {},
   "source": [
    "## using groupby :"
   ]
  },
  {
   "cell_type": "code",
   "execution_count": null,
   "id": "b77f049a",
   "metadata": {},
   "outputs": [],
   "source": [
    "df.groupby('Recency').first().head()"
   ]
  },
  {
   "cell_type": "markdown",
   "id": "e5863597",
   "metadata": {},
   "source": [
    "## Compairing two features :"
   ]
  },
  {
   "cell_type": "code",
   "execution_count": null,
   "id": "ff4f6d2a",
   "metadata": {},
   "outputs": [],
   "source": [
    "pd.crosstab(df['Recency'],df['Education']).head()"
   ]
  },
  {
   "cell_type": "markdown",
   "id": "d1c15a75",
   "metadata": {},
   "source": [
    "## Handling Outliers :"
   ]
  },
  {
   "cell_type": "code",
   "execution_count": 3,
   "id": "850749af",
   "metadata": {},
   "outputs": [
    {
     "data": {
      "text/plain": [
       "Index(['ID', 'Year_Birth', 'Education', 'Marital_Status', ' Income ',\n",
       "       'Kidhome', 'Teenhome', 'Dt_Customer', 'Recency', 'MntWines',\n",
       "       'MntFruits', 'MntMeatProducts', 'MntFishProducts', 'MntSweetProducts',\n",
       "       'MntGoldProds', 'NumDealsPurchases', 'NumWebPurchases',\n",
       "       'NumCatalogPurchases', 'NumStorePurchases', 'NumWebVisitsMonth',\n",
       "       'AcceptedCmp3', 'AcceptedCmp4', 'AcceptedCmp5', 'AcceptedCmp1',\n",
       "       'AcceptedCmp2', 'Response', 'Complain', 'Country'],\n",
       "      dtype='object')"
      ]
     },
     "execution_count": 3,
     "metadata": {},
     "output_type": "execute_result"
    }
   ],
   "source": [
    "df.columns"
   ]
  },
  {
   "cell_type": "code",
   "execution_count": 8,
   "id": "4b8f88e1",
   "metadata": {},
   "outputs": [],
   "source": [
    "import matplotlib.pyplot as plt"
   ]
  },
  {
   "cell_type": "code",
   "execution_count": null,
   "id": "de672371",
   "metadata": {},
   "outputs": [],
   "source": [
    "sns.boxplot(df)"
   ]
  },
  {
   "cell_type": "code",
   "execution_count": 13,
   "id": "3512e1ba",
   "metadata": {},
   "outputs": [
    {
     "data": {
      "text/plain": [
       "<Axes: >"
      ]
     },
     "execution_count": 13,
     "metadata": {},
     "output_type": "execute_result"
    },
    {
     "data": {
      "image/png": "[encoded data removed]",
      "text/plain": [
       "<Figure size 640x480 with 1 Axes>"
      ]
     },
     "metadata": {},
     "output_type": "display_data"
    }
   ],
   "source": [
    "sns.boxplot(df['Year_Birth'])"
   ]
  },
  {
   "cell_type": "code",
   "execution_count": 15,
   "id": "94f4cf11",
   "metadata": {},
   "outputs": [
    {
     "name": "stdout",
     "output_type": "stream",
     "text": [
      "1959.0\n",
      "1970.0\n",
      "1977.0\n",
      "1970.0\n",
      "2004.0\n",
      "1932.0\n"
     ]
    }
   ],
   "source": [
    "q1 = df['Year_Birth'].quantile(0.25)\n",
    "q2 = df['Year_Birth'].quantile(0.50)\n",
    "q3 = df['Year_Birth'].quantile(0.75)\n",
    "\n",
    "IQR = q3 - q1\n",
    "med = df['Year_Birth'].median()\n",
    "\n",
    "upper_tail = q3 + 1.5 * IQR\n",
    "lower_tail = q1 - 1.5* IQR\n",
    "\n",
    "\n",
    "print(q1)\n",
    "print(q2)\n",
    "print(q3)\n",
    "print(med)\n",
    "\n",
    "print(upper_tail)\n",
    "print(lower_tail)\n"
   ]
  },
  {
   "cell_type": "code",
   "execution_count": 16,
   "id": "2797d263",
   "metadata": {},
   "outputs": [
    {
     "data": {
      "text/plain": [
       "513     1893\n",
       "827     1899\n",
       "2233    1900\n",
       "Name: Year_Birth, dtype: int64"
      ]
     },
     "execution_count": 16,
     "metadata": {},
     "output_type": "execute_result"
    }
   ],
   "source": [
    "df['Year_Birth'].loc[df['Year_Birth'] < lower_tail]"
   ]
  },
  {
   "cell_type": "code",
   "execution_count": 17,
   "id": "3531ee0f",
   "metadata": {},
   "outputs": [],
   "source": [
    "df['Year_Birth'].loc[df['Year_Birth'] < lower_tail] = lower_tail"
   ]
  },
  {
   "cell_type": "code",
   "execution_count": 18,
   "id": "75aac3ce",
   "metadata": {},
   "outputs": [
    {
     "data": {
      "text/plain": [
       "Series([], Name: Year_Birth, dtype: int64)"
      ]
     },
     "execution_count": 18,
     "metadata": {},
     "output_type": "execute_result"
    }
   ],
   "source": [
    "df['Year_Birth'].loc[df['Year_Birth'] < lower_tail]"
   ]
  },
  {
   "cell_type": "code",
   "execution_count": 20,
   "id": "d15b4581",
   "metadata": {},
   "outputs": [
    {
     "data": {
      "text/plain": [
       "<Axes: >"
      ]
     },
     "execution_count": 20,
     "metadata": {},
     "output_type": "execute_result"
    },
    {
     "data": {
      "image/png": "[encoded data removed]",
      "text/plain": [
       "<Figure size 640x480 with 1 Axes>"
      ]
     },
     "metadata": {},
     "output_type": "display_data"
    }
   ],
   "source": [
    "sns.boxplot(df['Year_Birth'])"
   ]
  },
  {
   "cell_type": "code",
   "execution_count": 27,
   "id": "12566065",
   "metadata": {},
   "outputs": [
    {
     "data": {
      "text/plain": [
       "<Axes: >"
      ]
     },
     "execution_count": 27,
     "metadata": {},
     "output_type": "execute_result"
    },
    {
     "data": {
      "image/png": "[encoded data removed]",
      "text/plain": [
       "<Figure size 640x480 with 1 Axes>"
      ]
     },
     "metadata": {},
     "output_type": "display_data"
    }
   ],
   "source": [
    "df[[' Income ']].boxplot()"
   ]
  },
  {
   "cell_type": "code",
   "execution_count": 37,
   "id": "b0457c0f",
   "metadata": {},
   "outputs": [
    {
     "name": "stdout",
     "output_type": "stream",
     "text": [
      "35303.0\n",
      "51381.5\n",
      "68522.0\n",
      "51381.5\n",
      "118350.5\n",
      "-14525.5\n"
     ]
    }
   ],
   "source": [
    "q1 = df[' Income '].quantile(0.25)\n",
    "q2 = df[' Income '].quantile(0.50)\n",
    "q3 = df[' Income '].quantile(0.75)\n",
    "\n",
    "IQR = q3 - q1\n",
    "med = df[' Income '].median()\n",
    "\n",
    "upper_tail = q3 + 1.5 * IQR\n",
    "lower_tail = q1 - 1.5* IQR\n",
    "\n",
    "\n",
    "print(q1)\n",
    "print(q2)\n",
    "print(q3)\n",
    "print(med)\n",
    "\n",
    "print(upper_tail)\n",
    "print(lower_tail)\n"
   ]
  },
  {
   "cell_type": "code",
   "execution_count": 38,
   "id": "00ace30f",
   "metadata": {},
   "outputs": [
    {
     "data": {
      "text/plain": [
       "325     157146.0\n",
       "497     160803.0\n",
       "527     666666.0\n",
       "731     162397.0\n",
       "853     157733.0\n",
       "1826    153924.0\n",
       "1925    156924.0\n",
       "2204    157243.0\n",
       "Name:  Income , dtype: float64"
      ]
     },
     "execution_count": 38,
     "metadata": {},
     "output_type": "execute_result"
    }
   ],
   "source": [
    "df[' Income '].loc[df[' Income ']>upper_tail]"
   ]
  },
  {
   "cell_type": "code",
   "execution_count": 39,
   "id": "785c825e",
   "metadata": {},
   "outputs": [],
   "source": [
    "df[' Income '].loc[df[' Income ']>upper_tail] = upper_tail"
   ]
  },
  {
   "cell_type": "code",
   "execution_count": 40,
   "id": "6e6161dc",
   "metadata": {},
   "outputs": [
    {
     "data": {
      "text/plain": [
       "Series([], Name:  Income , dtype: float64)"
      ]
     },
     "execution_count": 40,
     "metadata": {},
     "output_type": "execute_result"
    }
   ],
   "source": [
    "df[' Income '].loc[df[' Income ']>upper_tail]"
   ]
  },
  {
   "cell_type": "code",
   "execution_count": 41,
   "id": "765d8ffc",
   "metadata": {},
   "outputs": [
    {
     "data": {
      "text/plain": [
       "<Axes: >"
      ]
     },
     "execution_count": 41,
     "metadata": {},
     "output_type": "execute_result"
    },
    {
     "data": {
      "image/png": "[encoded data removed]",
      "text/plain": [
       "<Figure size 640x480 with 1 Axes>"
      ]
     },
     "metadata": {},
     "output_type": "display_data"
    }
   ],
   "source": [
    "df[[' Income ']].boxplot()"
   ]
  },
  {
   "cell_type": "code",
   "execution_count": 28,
   "id": "53fa11d3",
   "metadata": {},
   "outputs": [
    {
     "data": {
      "text/plain": [
       "<Axes: >"
      ]
     },
     "execution_count": 28,
     "metadata": {},
     "output_type": "execute_result"
    },
    {
     "data": {
      "image/png": "[encoded data removed]",
      "text/plain": [
       "<Figure size 640x480 with 1 Axes>"
      ]
     },
     "metadata": {},
     "output_type": "display_data"
    }
   ],
   "source": [
    "df[['MntFruits']].boxplot()"
   ]
  },
  {
   "cell_type": "code",
   "execution_count": 42,
   "id": "739f06d9",
   "metadata": {},
   "outputs": [
    {
     "name": "stdout",
     "output_type": "stream",
     "text": [
      "1.0\n",
      "8.0\n",
      "33.0\n",
      "8.0\n",
      "81.0\n",
      "-47.0\n"
     ]
    }
   ],
   "source": [
    "q1 = df['MntFruits'].quantile(0.25)\n",
    "q2 = df['MntFruits'].quantile(0.50)\n",
    "q3 = df['MntFruits'].quantile(0.75)\n",
    "\n",
    "IQR = q3 - q1\n",
    "med = df['MntFruits'].median()\n",
    "\n",
    "upper_tail = q3 + 1.5 * IQR\n",
    "lower_tail = q1 - 1.5* IQR\n",
    "\n",
    "\n",
    "print(q1)\n",
    "print(q2)\n",
    "print(q3)\n",
    "print(med)\n",
    "\n",
    "print(upper_tail)\n",
    "print(lower_tail)\n"
   ]
  },
  {
   "cell_type": "code",
   "execution_count": 43,
   "id": "398b511d",
   "metadata": {},
   "outputs": [
    {
     "data": {
      "text/plain": [
       "0       104\n",
       "5       130\n",
       "12       82\n",
       "29      174\n",
       "45      169\n",
       "74      107\n",
       "75      105\n",
       "77      105\n",
       "91       96\n",
       "93       86\n",
       "101     193\n",
       "108      83\n",
       "142     148\n",
       "160      83\n",
       "164     103\n",
       "169     142\n",
       "170      97\n",
       "173     117\n",
       "174     134\n",
       "190     153\n",
       "191     148\n",
       "195      83\n",
       "202     142\n",
       "238     106\n",
       "248      88\n",
       "249      88\n",
       "256     153\n",
       "277     133\n",
       "285      99\n",
       "313     129\n",
       "314     129\n",
       "316      93\n",
       "319     107\n",
       "326      86\n",
       "335     185\n",
       "342     162\n",
       "399     168\n",
       "405      98\n",
       "411     129\n",
       "419     172\n",
       "423     140\n",
       "426     194\n",
       "428      91\n",
       "434     183\n",
       "436     134\n",
       "437     151\n",
       "441     197\n",
       "444     185\n",
       "465     178\n",
       "469     189\n",
       "470     102\n",
       "476     155\n",
       "483     115\n",
       "487      98\n",
       "491      98\n",
       "528      90\n",
       "533      83\n",
       "534      83\n",
       "535     114\n",
       "574      99\n",
       "575      93\n",
       "583     199\n",
       "584     199\n",
       "587     154\n",
       "588     183\n",
       "593     123\n",
       "607     108\n",
       "612     133\n",
       "618     137\n",
       "619     137\n",
       "639      91\n",
       "640     151\n",
       "668     129\n",
       "671     120\n",
       "672     120\n",
       "681     108\n",
       "682     108\n",
       "683     107\n",
       "685      84\n",
       "696     142\n",
       "710     129\n",
       "741     112\n",
       "742     183\n",
       "744     129\n",
       "749     178\n",
       "761     129\n",
       "762     151\n",
       "770     160\n",
       "773     114\n",
       "779     159\n",
       "800     111\n",
       "805     147\n",
       "807     143\n",
       "812     161\n",
       "827     144\n",
       "828     112\n",
       "829     112\n",
       "832     181\n",
       "855     133\n",
       "859      89\n",
       "870      97\n",
       "911     102\n",
       "927     105\n",
       "933     114\n",
       "934     114\n",
       "936     142\n",
       "938     155\n",
       "947     137\n",
       "974     107\n",
       "975     107\n",
       "992     147\n",
       "996     161\n",
       "1009    168\n",
       "1022    162\n",
       "1023    115\n",
       "1024    115\n",
       "1045     84\n",
       "1046     84\n",
       "1055    132\n",
       "1087    137\n",
       "1101    117\n",
       "1114    138\n",
       "1134    108\n",
       "1135    123\n",
       "1141    184\n",
       "1143     97\n",
       "1158     86\n",
       "1161    122\n",
       "1178    114\n",
       "1189    105\n",
       "1198    111\n",
       "1214    120\n",
       "1217    194\n",
       "1218    194\n",
       "1240     91\n",
       "1269     93\n",
       "1270     93\n",
       "1293     86\n",
       "1295    106\n",
       "1296    162\n",
       "1306    193\n",
       "1307    115\n",
       "1309     84\n",
       "1321     85\n",
       "1335    149\n",
       "1338    172\n",
       "1339    102\n",
       "1341     88\n",
       "1351    172\n",
       "1360    138\n",
       "1404    172\n",
       "1490     85\n",
       "1494    152\n",
       "1495    152\n",
       "1502    107\n",
       "1506    104\n",
       "1507    107\n",
       "1511     83\n",
       "1514    100\n",
       "1529    106\n",
       "1532    108\n",
       "1544    169\n",
       "1547    112\n",
       "1558    138\n",
       "1595    168\n",
       "1616    164\n",
       "1641     86\n",
       "1647    161\n",
       "1651    101\n",
       "1652    111\n",
       "1656    105\n",
       "1659     91\n",
       "1670    138\n",
       "1683     90\n",
       "1687    132\n",
       "1693    126\n",
       "1700    153\n",
       "1702     87\n",
       "1715     98\n",
       "1733    162\n",
       "1752     92\n",
       "1759    161\n",
       "1760    161\n",
       "1765    120\n",
       "1773     96\n",
       "1774     96\n",
       "1789    166\n",
       "1811    147\n",
       "1817    159\n",
       "1820    126\n",
       "1846    134\n",
       "1848     99\n",
       "1901    124\n",
       "1921    129\n",
       "1922    178\n",
       "1930     89\n",
       "1931    138\n",
       "1932    138\n",
       "1938     91\n",
       "1959    153\n",
       "1962    190\n",
       "1970    107\n",
       "1973    131\n",
       "1982    163\n",
       "1998    124\n",
       "2001    104\n",
       "2036    134\n",
       "2037    134\n",
       "2045    144\n",
       "2074     92\n",
       "2076    122\n",
       "2112     92\n",
       "2119    127\n",
       "2130     82\n",
       "2145    120\n",
       "2157    127\n",
       "2166    100\n",
       "2167    100\n",
       "2178    102\n",
       "2179    102\n",
       "2180    126\n",
       "2185    138\n",
       "2190    172\n",
       "2197    114\n",
       "2215    138\n",
       "2218     89\n",
       "2226     86\n",
       "Name: MntFruits, dtype: int64"
      ]
     },
     "execution_count": 43,
     "metadata": {},
     "output_type": "execute_result"
    }
   ],
   "source": [
    "df['MntFruits'].loc[df['MntFruits'] > upper_tail]"
   ]
  },
  {
   "cell_type": "code",
   "execution_count": 44,
   "id": "c3db70e6",
   "metadata": {},
   "outputs": [],
   "source": [
    "df['MntFruits'].loc[df['MntFruits'] > upper_tail] = upper_tail"
   ]
  },
  {
   "cell_type": "code",
   "execution_count": 45,
   "id": "36bfb9d4",
   "metadata": {},
   "outputs": [
    {
     "data": {
      "text/plain": [
       "Series([], Name: MntFruits, dtype: int64)"
      ]
     },
     "execution_count": 45,
     "metadata": {},
     "output_type": "execute_result"
    }
   ],
   "source": [
    "df['MntFruits'].loc[df['MntFruits'] > upper_tail]"
   ]
  },
  {
   "cell_type": "code",
   "execution_count": 46,
   "id": "28f37445",
   "metadata": {},
   "outputs": [
    {
     "data": {
      "text/plain": [
       "<Axes: >"
      ]
     },
     "execution_count": 46,
     "metadata": {},
     "output_type": "execute_result"
    },
    {
     "data": {
      "image/png": "[encoded data removed]",
      "text/plain": [
       "<Figure size 640x480 with 1 Axes>"
      ]
     },
     "metadata": {},
     "output_type": "display_data"
    }
   ],
   "source": [
    "df[['MntFruits']].boxplot()"
   ]
  },
  {
   "cell_type": "code",
   "execution_count": 31,
   "id": "d3f3235f",
   "metadata": {},
   "outputs": [
    {
     "data": {
      "text/plain": [
       "<Axes: >"
      ]
     },
     "execution_count": 31,
     "metadata": {},
     "output_type": "execute_result"
    },
    {
     "data": {
      "image/png": "[encoded data removed]",
      "text/plain": [
       "<Figure size 640x480 with 1 Axes>"
      ]
     },
     "metadata": {},
     "output_type": "display_data"
    }
   ],
   "source": [
    "df[['MntMeatProducts']].boxplot()"
   ]
  },
  {
   "cell_type": "code",
   "execution_count": 47,
   "id": "fe6fc495",
   "metadata": {},
   "outputs": [
    {
     "name": "stdout",
     "output_type": "stream",
     "text": [
      "16.0\n",
      "67.0\n",
      "232.0\n",
      "67.0\n",
      "556.0\n",
      "-308.0\n"
     ]
    }
   ],
   "source": [
    "q1 = df['MntMeatProducts'].quantile(0.25)\n",
    "q2 = df['MntMeatProducts'].quantile(0.50)\n",
    "q3 = df['MntMeatProducts'].quantile(0.75)\n",
    "\n",
    "IQR = q3 - q1\n",
    "med = df['MntMeatProducts'].median()\n",
    "\n",
    "upper_tail = q3 + 1.5 * IQR\n",
    "lower_tail = q1 - 1.5* IQR\n",
    "\n",
    "\n",
    "print(q1)\n",
    "print(q2)\n",
    "print(q3)\n",
    "print(med)\n",
    "\n",
    "print(upper_tail)\n",
    "print(lower_tail)\n"
   ]
  },
  {
   "cell_type": "code",
   "execution_count": 48,
   "id": "b5893bc0",
   "metadata": {},
   "outputs": [
    {
     "data": {
      "text/plain": [
       "31       706\n",
       "45       816\n",
       "53       981\n",
       "77       653\n",
       "78       780\n",
       "93       559\n",
       "135      849\n",
       "137      560\n",
       "163      751\n",
       "166      785\n",
       "173      678\n",
       "174      786\n",
       "188      592\n",
       "208      898\n",
       "219      694\n",
       "240      873\n",
       "283      594\n",
       "289      569\n",
       "305      732\n",
       "308      850\n",
       "316      651\n",
       "325     1725\n",
       "330      697\n",
       "335      687\n",
       "340      622\n",
       "353      731\n",
       "361      804\n",
       "376      731\n",
       "385      842\n",
       "423      599\n",
       "425      570\n",
       "434      565\n",
       "436      670\n",
       "444      575\n",
       "465      689\n",
       "470      673\n",
       "487      733\n",
       "491      827\n",
       "492      590\n",
       "497     1622\n",
       "517      711\n",
       "518      711\n",
       "574      812\n",
       "588      797\n",
       "607      649\n",
       "640      573\n",
       "642      558\n",
       "661      572\n",
       "671      915\n",
       "672      915\n",
       "687      890\n",
       "696      754\n",
       "710      761\n",
       "724      835\n",
       "744      853\n",
       "761      573\n",
       "770      625\n",
       "800      925\n",
       "803      690\n",
       "807      797\n",
       "810      925\n",
       "827      562\n",
       "831      655\n",
       "833      595\n",
       "855      951\n",
       "878      845\n",
       "879      845\n",
       "911      601\n",
       "927      779\n",
       "947      792\n",
       "951      860\n",
       "953      818\n",
       "960      561\n",
       "961     1725\n",
       "964      631\n",
       "973      929\n",
       "994      974\n",
       "1002     753\n",
       "1009     706\n",
       "1017     617\n",
       "1026     708\n",
       "1043     921\n",
       "1054     746\n",
       "1058     613\n",
       "1168     689\n",
       "1198     704\n",
       "1199     639\n",
       "1213    1607\n",
       "1240     597\n",
       "1263     604\n",
       "1298     590\n",
       "1303     653\n",
       "1335     815\n",
       "1338     961\n",
       "1356     567\n",
       "1357     749\n",
       "1368     951\n",
       "1393     607\n",
       "1400     843\n",
       "1403     706\n",
       "1404     815\n",
       "1408     790\n",
       "1409     790\n",
       "1415     899\n",
       "1431     614\n",
       "1446     689\n",
       "1450     815\n",
       "1456     883\n",
       "1481     640\n",
       "1502     768\n",
       "1514     835\n",
       "1516     685\n",
       "1535     925\n",
       "1544     565\n",
       "1569     568\n",
       "1570     568\n",
       "1595     672\n",
       "1607     935\n",
       "1625     747\n",
       "1628     713\n",
       "1641     740\n",
       "1643     611\n",
       "1644     591\n",
       "1652     724\n",
       "1653     602\n",
       "1655     756\n",
       "1656     758\n",
       "1658     603\n",
       "1670     750\n",
       "1685     586\n",
       "1687     693\n",
       "1699     674\n",
       "1700     940\n",
       "1715     606\n",
       "1740     716\n",
       "1757     573\n",
       "1767     913\n",
       "1769     717\n",
       "1770     717\n",
       "1785     735\n",
       "1789     597\n",
       "1811     842\n",
       "1839     932\n",
       "1856     813\n",
       "1864     780\n",
       "1865     654\n",
       "1894     592\n",
       "1921     984\n",
       "1959     612\n",
       "1980     629\n",
       "1982     818\n",
       "2006     742\n",
       "2019     864\n",
       "2021     968\n",
       "2036     768\n",
       "2037     768\n",
       "2055     946\n",
       "2056     573\n",
       "2074     736\n",
       "2079     936\n",
       "2119     635\n",
       "2125     818\n",
       "2154     832\n",
       "2155     832\n",
       "2157     687\n",
       "2166     801\n",
       "2167     801\n",
       "2178     838\n",
       "2179     838\n",
       "2204    1582\n",
       "2206     757\n",
       "2212     672\n",
       "2218     650\n",
       "2219     774\n",
       "2238     701\n",
       "Name: MntMeatProducts, dtype: int64"
      ]
     },
     "execution_count": 48,
     "metadata": {},
     "output_type": "execute_result"
    }
   ],
   "source": [
    "df['MntMeatProducts'].loc[df['MntMeatProducts'] >upper_tail]"
   ]
  },
  {
   "cell_type": "code",
   "execution_count": 49,
   "id": "6ee4e011",
   "metadata": {},
   "outputs": [],
   "source": [
    "df['MntMeatProducts'].loc[df['MntMeatProducts'] >upper_tail] = upper_tail"
   ]
  },
  {
   "cell_type": "code",
   "execution_count": 50,
   "id": "6e42781e",
   "metadata": {},
   "outputs": [
    {
     "data": {
      "text/plain": [
       "Series([], Name: MntMeatProducts, dtype: int64)"
      ]
     },
     "execution_count": 50,
     "metadata": {},
     "output_type": "execute_result"
    }
   ],
   "source": [
    "df['MntMeatProducts'].loc[df['MntMeatProducts'] >upper_tail]"
   ]
  },
  {
   "cell_type": "code",
   "execution_count": 51,
   "id": "7cd3aff8",
   "metadata": {},
   "outputs": [
    {
     "data": {
      "text/plain": [
       "<Axes: >"
      ]
     },
     "execution_count": 51,
     "metadata": {},
     "output_type": "execute_result"
    },
    {
     "data": {
      "image/png": "[encoded data removed]",
      "text/plain": [
       "<Figure size 640x480 with 1 Axes>"
      ]
     },
     "metadata": {},
     "output_type": "display_data"
    }
   ],
   "source": [
    "df[['MntMeatProducts']].boxplot()"
   ]
  },
  {
   "cell_type": "code",
   "execution_count": 32,
   "id": "3cce77d0",
   "metadata": {},
   "outputs": [
    {
     "data": {
      "text/plain": [
       "<Axes: >"
      ]
     },
     "execution_count": 32,
     "metadata": {},
     "output_type": "execute_result"
    },
    {
     "data": {
      "image/png": "[encoded data removed]",
      "text/plain": [
       "<Figure size 640x480 with 1 Axes>"
      ]
     },
     "metadata": {},
     "output_type": "display_data"
    }
   ],
   "source": [
    "df[['MntFishProducts']].boxplot()"
   ]
  },
  {
   "cell_type": "code",
   "execution_count": 52,
   "id": "6437c0d6",
   "metadata": {},
   "outputs": [
    {
     "name": "stdout",
     "output_type": "stream",
     "text": [
      "3.0\n",
      "12.0\n",
      "50.0\n",
      "12.0\n",
      "120.5\n",
      "-67.5\n"
     ]
    }
   ],
   "source": [
    "q1 = df['MntFishProducts'].quantile(0.25)\n",
    "q2 = df['MntFishProducts'].quantile(0.50)\n",
    "q3 = df['MntFishProducts'].quantile(0.75)\n",
    "\n",
    "IQR = q3 - q1\n",
    "med = df['MntFishProducts'].median()\n",
    "\n",
    "upper_tail = q3 + 1.5 * IQR\n",
    "lower_tail = q1 - 1.5* IQR\n",
    "\n",
    "\n",
    "print(q1)\n",
    "print(q2)\n",
    "print(q3)\n",
    "print(med)\n",
    "\n",
    "print(upper_tail)\n",
    "print(lower_tail)\n"
   ]
  },
  {
   "cell_type": "code",
   "execution_count": 53,
   "id": "be73374f",
   "metadata": {},
   "outputs": [
    {
     "data": {
      "text/plain": [
       "5       240\n",
       "36      138\n",
       "51      189\n",
       "53      224\n",
       "58      150\n",
       "67      134\n",
       "70      193\n",
       "71      180\n",
       "74      140\n",
       "75      137\n",
       "91      168\n",
       "101     205\n",
       "121     172\n",
       "129     150\n",
       "130     150\n",
       "135     229\n",
       "169     259\n",
       "170     127\n",
       "173     134\n",
       "177     130\n",
       "188     145\n",
       "190     218\n",
       "208     247\n",
       "257     124\n",
       "258     124\n",
       "285     185\n",
       "293     182\n",
       "295     160\n",
       "302     136\n",
       "313     168\n",
       "314     168\n",
       "319     175\n",
       "323     162\n",
       "330     216\n",
       "335     145\n",
       "338     142\n",
       "340     207\n",
       "348     140\n",
       "399     192\n",
       "405     150\n",
       "411     182\n",
       "432     123\n",
       "434     166\n",
       "435     201\n",
       "474     150\n",
       "475     150\n",
       "476     224\n",
       "482     130\n",
       "483     169\n",
       "491     219\n",
       "517     125\n",
       "518     125\n",
       "574     151\n",
       "575     242\n",
       "583     234\n",
       "584     234\n",
       "587     201\n",
       "607     253\n",
       "614     258\n",
       "615     258\n",
       "623     134\n",
       "637     151\n",
       "652     227\n",
       "668     188\n",
       "670     128\n",
       "681     141\n",
       "682     141\n",
       "687     250\n",
       "696     159\n",
       "697     138\n",
       "712     121\n",
       "719     151\n",
       "722     232\n",
       "742     184\n",
       "748     179\n",
       "759     158\n",
       "761     216\n",
       "762     153\n",
       "773     179\n",
       "812     171\n",
       "813     216\n",
       "816     169\n",
       "831     145\n",
       "832     202\n",
       "833     180\n",
       "855     173\n",
       "878     202\n",
       "879     202\n",
       "882     151\n",
       "910     130\n",
       "927     137\n",
       "933     132\n",
       "934     132\n",
       "936     164\n",
       "938     192\n",
       "947     179\n",
       "980     123\n",
       "992     219\n",
       "994     197\n",
       "996     210\n",
       "1022    173\n",
       "1037    153\n",
       "1045    205\n",
       "1046    205\n",
       "1055    250\n",
       "1068    199\n",
       "1069    199\n",
       "1094    168\n",
       "1134    130\n",
       "1143    197\n",
       "1159    138\n",
       "1160    138\n",
       "1168    224\n",
       "1178    181\n",
       "1189    237\n",
       "1198    145\n",
       "1202    129\n",
       "1208    160\n",
       "1209    160\n",
       "1214    156\n",
       "1217    149\n",
       "1218    149\n",
       "1229    167\n",
       "1234    168\n",
       "1240    159\n",
       "1246    134\n",
       "1258    180\n",
       "1288    231\n",
       "1307    150\n",
       "1310    182\n",
       "1324    220\n",
       "1333    172\n",
       "1335    173\n",
       "1338    125\n",
       "1339    212\n",
       "1341    172\n",
       "1351    185\n",
       "1360    224\n",
       "1363    199\n",
       "1370    123\n",
       "1389    138\n",
       "1390    198\n",
       "1395    208\n",
       "1396    123\n",
       "1408    160\n",
       "1409    160\n",
       "1431    133\n",
       "1445    149\n",
       "1450    129\n",
       "1459    121\n",
       "1474    127\n",
       "1481    180\n",
       "1503    254\n",
       "1509    168\n",
       "1511    151\n",
       "1516    168\n",
       "1518    220\n",
       "1555    158\n",
       "1561    177\n",
       "1572    137\n",
       "1595    246\n",
       "1616    227\n",
       "1634    240\n",
       "1640    223\n",
       "1644    156\n",
       "1647    210\n",
       "1654    146\n",
       "1662    179\n",
       "1683    123\n",
       "1684    133\n",
       "1693    164\n",
       "1702    175\n",
       "1717    153\n",
       "1718    149\n",
       "1735    146\n",
       "1736    146\n",
       "1759    186\n",
       "1760    186\n",
       "1769    210\n",
       "1770    210\n",
       "1773    220\n",
       "1774    220\n",
       "1789    172\n",
       "1792    160\n",
       "1811    137\n",
       "1827    179\n",
       "1839    180\n",
       "1846    175\n",
       "1848    237\n",
       "1853    225\n",
       "1864    145\n",
       "1875    138\n",
       "1894    147\n",
       "1906    184\n",
       "1921    193\n",
       "1938    258\n",
       "1958    136\n",
       "1980    145\n",
       "1982    212\n",
       "2001    197\n",
       "2011    151\n",
       "2019    219\n",
       "2020    133\n",
       "2036    150\n",
       "2037    150\n",
       "2055    219\n",
       "2076    208\n",
       "2079    207\n",
       "2092    250\n",
       "2112    194\n",
       "2119    132\n",
       "2141    210\n",
       "2145    121\n",
       "2178    133\n",
       "2179    133\n",
       "2185    160\n",
       "2190    150\n",
       "2206    186\n",
       "2213    147\n",
       "2223    188\n",
       "2226    177\n",
       "2238    149\n",
       "2239    188\n",
       "Name: MntFishProducts, dtype: int64"
      ]
     },
     "execution_count": 53,
     "metadata": {},
     "output_type": "execute_result"
    }
   ],
   "source": [
    "df['MntFishProducts'].loc[df['MntFishProducts']>upper_tail]"
   ]
  },
  {
   "cell_type": "code",
   "execution_count": 54,
   "id": "59530612",
   "metadata": {},
   "outputs": [],
   "source": [
    "df['MntFishProducts'].loc[df['MntFishProducts']>upper_tail] = upper_tail"
   ]
  },
  {
   "cell_type": "code",
   "execution_count": 55,
   "id": "763d328c",
   "metadata": {},
   "outputs": [
    {
     "data": {
      "text/plain": [
       "Series([], Name: MntFishProducts, dtype: float64)"
      ]
     },
     "execution_count": 55,
     "metadata": {},
     "output_type": "execute_result"
    }
   ],
   "source": [
    "df['MntFishProducts'].loc[df['MntFishProducts']>upper_tail]"
   ]
  },
  {
   "cell_type": "code",
   "execution_count": 56,
   "id": "671738a6",
   "metadata": {},
   "outputs": [
    {
     "data": {
      "text/plain": [
       "<Axes: >"
      ]
     },
     "execution_count": 56,
     "metadata": {},
     "output_type": "execute_result"
    },
    {
     "data": {
      "image/png": "[encoded data removed]",
      "text/plain": [
       "<Figure size 640x480 with 1 Axes>"
      ]
     },
     "metadata": {},
     "output_type": "display_data"
    }
   ],
   "source": [
    "df[['MntFishProducts']].boxplot()"
   ]
  },
  {
   "cell_type": "code",
   "execution_count": 33,
   "id": "3fa46944",
   "metadata": {},
   "outputs": [
    {
     "data": {
      "text/plain": [
       "<Axes: >"
      ]
     },
     "execution_count": 33,
     "metadata": {},
     "output_type": "execute_result"
    },
    {
     "data": {
      "image/png": "[encoded data removed]",
      "text/plain": [
       "<Figure size 640x480 with 1 Axes>"
      ]
     },
     "metadata": {},
     "output_type": "display_data"
    }
   ],
   "source": [
    "df[['MntSweetProducts']].boxplot()"
   ]
  },
  {
   "cell_type": "code",
   "execution_count": 57,
   "id": "d54cc953",
   "metadata": {},
   "outputs": [
    {
     "name": "stdout",
     "output_type": "stream",
     "text": [
      "1.0\n",
      "8.0\n",
      "33.0\n",
      "8.0\n",
      "81.0\n",
      "-47.0\n"
     ]
    }
   ],
   "source": [
    "q1 = df['MntSweetProducts'].quantile(0.25)\n",
    "q2 = df['MntSweetProducts'].quantile(0.50)\n",
    "q3 = df['MntSweetProducts'].quantile(0.75)\n",
    "\n",
    "IQR = q3 - q1\n",
    "med = df['MntSweetProducts'].median()\n",
    "\n",
    "upper_tail = q3 + 1.5 * IQR\n",
    "lower_tail = q1 - 1.5* IQR\n",
    "\n",
    "\n",
    "print(q1)\n",
    "print(q2)\n",
    "print(q3)\n",
    "print(med)\n",
    "\n",
    "print(upper_tail)\n",
    "print(lower_tail)\n"
   ]
  },
  {
   "cell_type": "code",
   "execution_count": 58,
   "id": "868ab7a0",
   "metadata": {},
   "outputs": [
    {
     "data": {
      "text/plain": [
       "0       189\n",
       "10       98\n",
       "31      197\n",
       "36       89\n",
       "39      172\n",
       "42      160\n",
       "70       92\n",
       "71      138\n",
       "78      167\n",
       "98      178\n",
       "108      99\n",
       "109     101\n",
       "118     123\n",
       "120      82\n",
       "121      96\n",
       "129     138\n",
       "130     138\n",
       "137     176\n",
       "142     172\n",
       "166     128\n",
       "169     151\n",
       "170     133\n",
       "174     134\n",
       "191     148\n",
       "210     262\n",
       "243      89\n",
       "256      97\n",
       "285     121\n",
       "295     142\n",
       "305     198\n",
       "307      83\n",
       "308      83\n",
       "313     121\n",
       "314     121\n",
       "323     149\n",
       "340     175\n",
       "342     162\n",
       "353     137\n",
       "370      94\n",
       "376     114\n",
       "388      98\n",
       "414     102\n",
       "434     141\n",
       "438     110\n",
       "441     152\n",
       "449     263\n",
       "452     138\n",
       "487     112\n",
       "517     115\n",
       "518     115\n",
       "539      85\n",
       "566     126\n",
       "574      82\n",
       "588     163\n",
       "602      91\n",
       "607     151\n",
       "618     137\n",
       "619     137\n",
       "637     133\n",
       "642      95\n",
       "652     120\n",
       "657     116\n",
       "661     125\n",
       "671     144\n",
       "672     144\n",
       "673     122\n",
       "679      91\n",
       "681      97\n",
       "682      97\n",
       "697     106\n",
       "705      88\n",
       "710     185\n",
       "711     130\n",
       "712     120\n",
       "722     178\n",
       "749     138\n",
       "755     101\n",
       "773     137\n",
       "779     106\n",
       "805     107\n",
       "807     143\n",
       "818     112\n",
       "823     105\n",
       "828      82\n",
       "829      82\n",
       "831     111\n",
       "837     108\n",
       "865     101\n",
       "868     138\n",
       "869     179\n",
       "870     118\n",
       "878     133\n",
       "879     133\n",
       "927     105\n",
       "933     152\n",
       "934     152\n",
       "938      93\n",
       "947     103\n",
       "962      84\n",
       "980     161\n",
       "992     147\n",
       "994     194\n",
       "1021     83\n",
       "1026     91\n",
       "1030    118\n",
       "1045     84\n",
       "1046     84\n",
       "1048    147\n",
       "1055    192\n",
       "1059    192\n",
       "1077    109\n",
       "1085     89\n",
       "1086     89\n",
       "1091    163\n",
       "1094     91\n",
       "1101    102\n",
       "1135    123\n",
       "1138    150\n",
       "1141     97\n",
       "1143    194\n",
       "1158     86\n",
       "1161    153\n",
       "1178    165\n",
       "1189    172\n",
       "1193    116\n",
       "1217    125\n",
       "1218    125\n",
       "1237    151\n",
       "1240     91\n",
       "1244    176\n",
       "1258    120\n",
       "1287    108\n",
       "1295     98\n",
       "1296     92\n",
       "1298    107\n",
       "1306    185\n",
       "1310    187\n",
       "1333    153\n",
       "1338    115\n",
       "1341     88\n",
       "1345     86\n",
       "1351    132\n",
       "1352    112\n",
       "1363    191\n",
       "1369     89\n",
       "1370     94\n",
       "1390    174\n",
       "1392    103\n",
       "1395     93\n",
       "1396    107\n",
       "1400     95\n",
       "1404    148\n",
       "1425     87\n",
       "1426     87\n",
       "1431    102\n",
       "1445     91\n",
       "1459    160\n",
       "1473     88\n",
       "1490    123\n",
       "1494     91\n",
       "1495     91\n",
       "1502    196\n",
       "1503     87\n",
       "1507    143\n",
       "1511    141\n",
       "1514     83\n",
       "1516     92\n",
       "1526    157\n",
       "1529    115\n",
       "1532     92\n",
       "1535    107\n",
       "1540    107\n",
       "1544    169\n",
       "1561    136\n",
       "1569    133\n",
       "1570    133\n",
       "1578    139\n",
       "1595    105\n",
       "1625    161\n",
       "1640    150\n",
       "1647     85\n",
       "1683    103\n",
       "1685     86\n",
       "1687    118\n",
       "1690    100\n",
       "1693    126\n",
       "1700    134\n",
       "1718     95\n",
       "1741    122\n",
       "1752    129\n",
       "1758     93\n",
       "1759    161\n",
       "1760    161\n",
       "1765    126\n",
       "1773     96\n",
       "1774     96\n",
       "1785    194\n",
       "1789    166\n",
       "1790     89\n",
       "1792    143\n",
       "1827     97\n",
       "1846    134\n",
       "1848    149\n",
       "1853    112\n",
       "1856    173\n",
       "1886    174\n",
       "1900    147\n",
       "1908    122\n",
       "1913    108\n",
       "1914    188\n",
       "1931     92\n",
       "1932     92\n",
       "1935    182\n",
       "1938    107\n",
       "1959     95\n",
       "1962    156\n",
       "1963     98\n",
       "1964     98\n",
       "1982    163\n",
       "1997    114\n",
       "2001    151\n",
       "2040     98\n",
       "2045    192\n",
       "2055    189\n",
       "2067    195\n",
       "2076    129\n",
       "2077    151\n",
       "2078    137\n",
       "2103    107\n",
       "2104    107\n",
       "2105    160\n",
       "2119    127\n",
       "2129    145\n",
       "2141    143\n",
       "2148     92\n",
       "2154    118\n",
       "2155    118\n",
       "2175    146\n",
       "2178    102\n",
       "2179    102\n",
       "2180    112\n",
       "2185    169\n",
       "2190    105\n",
       "2197    124\n",
       "2206    163\n",
       "2213    113\n",
       "2218    102\n",
       "2238    165\n",
       "Name: MntSweetProducts, dtype: int64"
      ]
     },
     "execution_count": 58,
     "metadata": {},
     "output_type": "execute_result"
    }
   ],
   "source": [
    "df['MntSweetProducts'].loc[df['MntSweetProducts'] > upper_tail]"
   ]
  },
  {
   "cell_type": "code",
   "execution_count": 59,
   "id": "3ac5a377",
   "metadata": {},
   "outputs": [],
   "source": [
    "df['MntSweetProducts'].loc[df['MntSweetProducts'] > upper_tail] = upper_tail"
   ]
  },
  {
   "cell_type": "code",
   "execution_count": 60,
   "id": "c1cc4b94",
   "metadata": {},
   "outputs": [
    {
     "data": {
      "text/plain": [
       "Series([], Name: MntSweetProducts, dtype: int64)"
      ]
     },
     "execution_count": 60,
     "metadata": {},
     "output_type": "execute_result"
    }
   ],
   "source": [
    "df['MntSweetProducts'].loc[df['MntSweetProducts'] > upper_tail]"
   ]
  },
  {
   "cell_type": "code",
   "execution_count": 61,
   "id": "ed9799fb",
   "metadata": {},
   "outputs": [
    {
     "data": {
      "text/plain": [
       "<Axes: >"
      ]
     },
     "execution_count": 61,
     "metadata": {},
     "output_type": "execute_result"
    },
    {
     "data": {
      "image/png": "[encoded data removed]",
      "text/plain": [
       "<Figure size 640x480 with 1 Axes>"
      ]
     },
     "metadata": {},
     "output_type": "display_data"
    }
   ],
   "source": [
    "df[['MntSweetProducts']].boxplot()"
   ]
  },
  {
   "cell_type": "code",
   "execution_count": 34,
   "id": "434eea60",
   "metadata": {},
   "outputs": [
    {
     "data": {
      "text/plain": [
       "<Axes: >"
      ]
     },
     "execution_count": 34,
     "metadata": {},
     "output_type": "execute_result"
    },
    {
     "data": {
      "image/png": "[encoded data removed]",
      "text/plain": [
       "<Figure size 640x480 with 1 Axes>"
      ]
     },
     "metadata": {},
     "output_type": "display_data"
    }
   ],
   "source": [
    "df[['MntGoldProds']].boxplot()"
   ]
  },
  {
   "cell_type": "code",
   "execution_count": 62,
   "id": "4e65124c",
   "metadata": {},
   "outputs": [
    {
     "name": "stdout",
     "output_type": "stream",
     "text": [
      "9.0\n",
      "24.0\n",
      "56.0\n",
      "24.0\n",
      "126.5\n",
      "-61.5\n"
     ]
    }
   ],
   "source": [
    "q1 = df['MntGoldProds'].quantile(0.25)\n",
    "q2 = df['MntGoldProds'].quantile(0.50)\n",
    "q3 = df['MntGoldProds'].quantile(0.75)\n",
    "\n",
    "IQR = q3 - q1\n",
    "med = df['MntGoldProds'].median()\n",
    "\n",
    "upper_tail = q3 + 1.5 * IQR\n",
    "lower_tail = q1 - 1.5* IQR\n",
    "\n",
    "\n",
    "print(q1)\n",
    "print(q2)\n",
    "print(q3)\n",
    "print(med)\n",
    "\n",
    "print(upper_tail)\n",
    "print(lower_tail)\n"
   ]
  },
  {
   "cell_type": "code",
   "execution_count": 66,
   "id": "7a5ece7a",
   "metadata": {},
   "outputs": [
    {
     "data": {
      "text/plain": [
       "0       218\n",
       "14      321\n",
       "31      197\n",
       "39      172\n",
       "60      262\n",
       "70      129\n",
       "101     145\n",
       "115     143\n",
       "121     168\n",
       "129     150\n",
       "130     150\n",
       "135     128\n",
       "142     148\n",
       "163     191\n",
       "173     147\n",
       "190     181\n",
       "194     135\n",
       "196     160\n",
       "231     153\n",
       "238     130\n",
       "248     133\n",
       "249     133\n",
       "251     152\n",
       "283     134\n",
       "293     140\n",
       "326     138\n",
       "330     166\n",
       "335     241\n",
       "343     157\n",
       "370     219\n",
       "385     133\n",
       "399     231\n",
       "403     183\n",
       "404     205\n",
       "408     177\n",
       "410     192\n",
       "419     246\n",
       "423     127\n",
       "449     362\n",
       "463     144\n",
       "469     172\n",
       "484     141\n",
       "485     141\n",
       "486     248\n",
       "491     196\n",
       "498     139\n",
       "535     190\n",
       "551     153\n",
       "556     134\n",
       "560     174\n",
       "561     174\n",
       "579     152\n",
       "583     170\n",
       "584     170\n",
       "585     182\n",
       "606     169\n",
       "637     233\n",
       "639     205\n",
       "651     146\n",
       "652     134\n",
       "658     198\n",
       "662     176\n",
       "678     196\n",
       "686     196\n",
       "695     171\n",
       "696     183\n",
       "698     242\n",
       "722     158\n",
       "739     146\n",
       "755     232\n",
       "757     227\n",
       "761     203\n",
       "779     141\n",
       "788     142\n",
       "797     200\n",
       "807     143\n",
       "823     134\n",
       "827     224\n",
       "832     207\n",
       "833     138\n",
       "850     154\n",
       "855     216\n",
       "860     152\n",
       "882     139\n",
       "904     192\n",
       "905     192\n",
       "936     151\n",
       "944     132\n",
       "963     191\n",
       "973     130\n",
       "988     223\n",
       "989     223\n",
       "995     137\n",
       "1026    182\n",
       "1030    247\n",
       "1040    142\n",
       "1045    241\n",
       "1046    241\n",
       "1068    163\n",
       "1069    163\n",
       "1135    141\n",
       "1148    154\n",
       "1149    154\n",
       "1158    144\n",
       "1178    203\n",
       "1193    149\n",
       "1198    166\n",
       "1214    241\n",
       "1227    130\n",
       "1228    130\n",
       "1258    190\n",
       "1262    176\n",
       "1274    133\n",
       "1288    190\n",
       "1296    162\n",
       "1306    185\n",
       "1307    205\n",
       "1309    162\n",
       "1316    191\n",
       "1317    191\n",
       "1318    191\n",
       "1322    204\n",
       "1333    173\n",
       "1339    245\n",
       "1376    185\n",
       "1390    195\n",
       "1396    161\n",
       "1398    174\n",
       "1408    172\n",
       "1409    172\n",
       "1451    131\n",
       "1452    131\n",
       "1453    131\n",
       "1459    147\n",
       "1489    224\n",
       "1493    142\n",
       "1508    153\n",
       "1511    224\n",
       "1516    129\n",
       "1518    182\n",
       "1549    187\n",
       "1550    187\n",
       "1561    170\n",
       "1564    168\n",
       "1569    145\n",
       "1570    145\n",
       "1571    218\n",
       "1575    195\n",
       "1576    168\n",
       "1578    153\n",
       "1596    215\n",
       "1616    174\n",
       "1628    163\n",
       "1640    128\n",
       "1656    147\n",
       "1738    129\n",
       "1741    174\n",
       "1743    130\n",
       "1771    159\n",
       "1772    159\n",
       "1789    249\n",
       "1811    210\n",
       "1820    180\n",
       "1843    242\n",
       "1855    145\n",
       "1864    178\n",
       "1901    134\n",
       "1911    182\n",
       "1912    182\n",
       "1914    232\n",
       "1916    200\n",
       "1917    200\n",
       "1958    229\n",
       "1959    153\n",
       "1963    151\n",
       "1964    151\n",
       "1970    131\n",
       "1975    133\n",
       "1977    172\n",
       "1997    135\n",
       "2020    144\n",
       "2031    155\n",
       "2035    153\n",
       "2036    172\n",
       "2037    172\n",
       "2045    241\n",
       "2057    176\n",
       "2060    227\n",
       "2061    227\n",
       "2063    291\n",
       "2075    149\n",
       "2080    199\n",
       "2093    175\n",
       "2099    154\n",
       "2110    133\n",
       "2112    241\n",
       "2119    165\n",
       "2132    145\n",
       "2137    175\n",
       "2139    147\n",
       "2148    149\n",
       "2151    210\n",
       "2168    191\n",
       "2175    139\n",
       "2219    187\n",
       "2223    183\n",
       "2239    144\n",
       "Name: MntGoldProds, dtype: int64"
      ]
     },
     "execution_count": 66,
     "metadata": {},
     "output_type": "execute_result"
    }
   ],
   "source": [
    "df['MntGoldProds'].loc[df['MntGoldProds']>upper_tail]"
   ]
  },
  {
   "cell_type": "code",
   "execution_count": 67,
   "id": "8a3fe2b7",
   "metadata": {},
   "outputs": [],
   "source": [
    "df['MntGoldProds'].loc[df['MntGoldProds']>upper_tail] = upper_tail"
   ]
  },
  {
   "cell_type": "code",
   "execution_count": 68,
   "id": "f2080928",
   "metadata": {},
   "outputs": [
    {
     "data": {
      "text/plain": [
       "Series([], Name: MntGoldProds, dtype: float64)"
      ]
     },
     "execution_count": 68,
     "metadata": {},
     "output_type": "execute_result"
    }
   ],
   "source": [
    "df['MntGoldProds'].loc[df['MntGoldProds']>upper_tail]"
   ]
  },
  {
   "cell_type": "code",
   "execution_count": 69,
   "id": "10dcc0b8",
   "metadata": {},
   "outputs": [
    {
     "data": {
      "text/plain": [
       "<Axes: >"
      ]
     },
     "execution_count": 69,
     "metadata": {},
     "output_type": "execute_result"
    },
    {
     "data": {
      "image/png": "[encoded data removed]",
      "text/plain": [
       "<Figure size 640x480 with 1 Axes>"
      ]
     },
     "metadata": {},
     "output_type": "display_data"
    }
   ],
   "source": [
    "df[['MntGoldProds']].boxplot()"
   ]
  },
  {
   "cell_type": "code",
   "execution_count": 35,
   "id": "c7d197af",
   "metadata": {},
   "outputs": [
    {
     "data": {
      "text/plain": [
       "<Axes: >"
      ]
     },
     "execution_count": 35,
     "metadata": {},
     "output_type": "execute_result"
    },
    {
     "data": {
      "image/png": "[encoded data removed]",
      "text/plain": [
       "<Figure size 640x480 with 1 Axes>"
      ]
     },
     "metadata": {},
     "output_type": "display_data"
    }
   ],
   "source": [
    "df[['NumDealsPurchases']].boxplot()"
   ]
  },
  {
   "cell_type": "code",
   "execution_count": 70,
   "id": "5fcf2bff",
   "metadata": {},
   "outputs": [
    {
     "name": "stdout",
     "output_type": "stream",
     "text": [
      "1.0\n",
      "2.0\n",
      "3.0\n",
      "2.0\n",
      "6.0\n",
      "-2.0\n"
     ]
    }
   ],
   "source": [
    "q1 = df['NumDealsPurchases'].quantile(0.25)\n",
    "q2 = df['NumDealsPurchases'].quantile(0.50)\n",
    "q3 = df['NumDealsPurchases'].quantile(0.75)\n",
    "\n",
    "IQR = q3 - q1\n",
    "med = df['NumDealsPurchases'].median()\n",
    "\n",
    "upper_tail = q3 + 1.5 * IQR\n",
    "lower_tail = q1 - 1.5* IQR\n",
    "\n",
    "\n",
    "print(q1)\n",
    "print(q2)\n",
    "print(q3)\n",
    "print(med)\n",
    "\n",
    "print(upper_tail)\n",
    "print(lower_tail)\n"
   ]
  },
  {
   "cell_type": "code",
   "execution_count": 71,
   "id": "19780133",
   "metadata": {},
   "outputs": [
    {
     "data": {
      "text/plain": [
       "26      12\n",
       "27      12\n",
       "64       7\n",
       "105     11\n",
       "106     11\n",
       "127      9\n",
       "134     12\n",
       "226      8\n",
       "251      7\n",
       "263      9\n",
       "269     10\n",
       "273      7\n",
       "334     11\n",
       "400     10\n",
       "471     12\n",
       "493     10\n",
       "497     15\n",
       "512      8\n",
       "555      7\n",
       "583      7\n",
       "584      7\n",
       "604     11\n",
       "661      7\n",
       "663     15\n",
       "708      8\n",
       "713      9\n",
       "714      9\n",
       "850      7\n",
       "860      7\n",
       "902      9\n",
       "942      7\n",
       "944     10\n",
       "961     15\n",
       "995      7\n",
       "1033     8\n",
       "1047     7\n",
       "1072     7\n",
       "1077     9\n",
       "1111     8\n",
       "1158     8\n",
       "1162     8\n",
       "1164     7\n",
       "1169     8\n",
       "1172     7\n",
       "1185     7\n",
       "1193     8\n",
       "1242     7\n",
       "1262    11\n",
       "1266     7\n",
       "1267     7\n",
       "1282     7\n",
       "1314     7\n",
       "1315     7\n",
       "1332     7\n",
       "1361     7\n",
       "1362     7\n",
       "1377     8\n",
       "1391     7\n",
       "1407     9\n",
       "1416    15\n",
       "1448     7\n",
       "1457     9\n",
       "1466    15\n",
       "1524     7\n",
       "1562     7\n",
       "1563     7\n",
       "1586     8\n",
       "1588     7\n",
       "1635     8\n",
       "1640    13\n",
       "1686    13\n",
       "1718    15\n",
       "1819     8\n",
       "1840     7\n",
       "1845     7\n",
       "1847     7\n",
       "1974     8\n",
       "1975     7\n",
       "1997    13\n",
       "2034     7\n",
       "2039     7\n",
       "2080     7\n",
       "2134     7\n",
       "2135     7\n",
       "2204    15\n",
       "2218    10\n",
       "Name: NumDealsPurchases, dtype: int64"
      ]
     },
     "execution_count": 71,
     "metadata": {},
     "output_type": "execute_result"
    }
   ],
   "source": [
    "df['NumDealsPurchases'].loc[df['NumDealsPurchases'] > upper_tail]"
   ]
  },
  {
   "cell_type": "code",
   "execution_count": 72,
   "id": "6f679ab8",
   "metadata": {},
   "outputs": [],
   "source": [
    "df['NumDealsPurchases'].loc[df['NumDealsPurchases'] > upper_tail] = upper_tail"
   ]
  },
  {
   "cell_type": "code",
   "execution_count": 73,
   "id": "5b114322",
   "metadata": {},
   "outputs": [
    {
     "data": {
      "text/plain": [
       "Series([], Name: NumDealsPurchases, dtype: int64)"
      ]
     },
     "execution_count": 73,
     "metadata": {},
     "output_type": "execute_result"
    }
   ],
   "source": [
    "df['NumDealsPurchases'].loc[df['NumDealsPurchases'] > upper_tail]"
   ]
  },
  {
   "cell_type": "code",
   "execution_count": 74,
   "id": "1c522ca2",
   "metadata": {},
   "outputs": [
    {
     "data": {
      "text/plain": [
       "<Axes: >"
      ]
     },
     "execution_count": 74,
     "metadata": {},
     "output_type": "execute_result"
    },
    {
     "data": {
      "image/png": "[encoded data removed]",
      "text/plain": [
       "<Figure size 640x480 with 1 Axes>"
      ]
     },
     "metadata": {},
     "output_type": "display_data"
    }
   ],
   "source": [
    "df[['NumDealsPurchases']].boxplot()"
   ]
  },
  {
   "cell_type": "code",
   "execution_count": 36,
   "id": "3d85c098",
   "metadata": {},
   "outputs": [
    {
     "data": {
      "text/plain": [
       "<Axes: >"
      ]
     },
     "execution_count": 36,
     "metadata": {},
     "output_type": "execute_result"
    },
    {
     "data": {
      "image/png": "[encoded data removed]",
      "text/plain": [
       "<Figure size 640x480 with 1 Axes>"
      ]
     },
     "metadata": {},
     "output_type": "display_data"
    }
   ],
   "source": [
    "df[['NumWebPurchases']].boxplot()"
   ]
  },
  {
   "cell_type": "code",
   "execution_count": 75,
   "id": "223c8217",
   "metadata": {},
   "outputs": [
    {
     "name": "stdout",
     "output_type": "stream",
     "text": [
      "2.0\n",
      "4.0\n",
      "6.0\n",
      "4.0\n",
      "12.0\n",
      "-4.0\n"
     ]
    }
   ],
   "source": [
    "q1 = df['NumWebPurchases'].quantile(0.25)\n",
    "q2 = df['NumWebPurchases'].quantile(0.50)\n",
    "q3 = df['NumWebPurchases'].quantile(0.75)\n",
    "\n",
    "IQR = q3 - q1\n",
    "med = df['NumWebPurchases'].median()\n",
    "\n",
    "upper_tail = q3 + 1.5 * IQR\n",
    "lower_tail = q1 - 1.5* IQR\n",
    "\n",
    "\n",
    "print(q1)\n",
    "print(q2)\n",
    "print(q3)\n",
    "print(med)\n",
    "\n",
    "print(upper_tail)\n",
    "print(lower_tail)\n"
   ]
  },
  {
   "cell_type": "code",
   "execution_count": 76,
   "id": "4b113ba9",
   "metadata": {},
   "outputs": [
    {
     "data": {
      "text/plain": [
       "14      25\n",
       "210     27\n",
       "449     27\n",
       "2063    23\n",
       "Name: NumWebPurchases, dtype: int64"
      ]
     },
     "execution_count": 76,
     "metadata": {},
     "output_type": "execute_result"
    }
   ],
   "source": [
    "df['NumWebPurchases'].loc[df['NumWebPurchases']>upper_tail]"
   ]
  },
  {
   "cell_type": "code",
   "execution_count": 77,
   "id": "575bff6f",
   "metadata": {},
   "outputs": [],
   "source": [
    "df['NumWebPurchases'].loc[df['NumWebPurchases']>upper_tail] = upper_tail"
   ]
  },
  {
   "cell_type": "code",
   "execution_count": 78,
   "id": "26aa0c99",
   "metadata": {},
   "outputs": [
    {
     "data": {
      "text/plain": [
       "Series([], Name: NumWebPurchases, dtype: int64)"
      ]
     },
     "execution_count": 78,
     "metadata": {},
     "output_type": "execute_result"
    }
   ],
   "source": [
    "df['NumWebPurchases'].loc[df['NumWebPurchases']>upper_tail]"
   ]
  },
  {
   "cell_type": "code",
   "execution_count": 79,
   "id": "2584e617",
   "metadata": {},
   "outputs": [
    {
     "data": {
      "text/plain": [
       "<Axes: >"
      ]
     },
     "execution_count": 79,
     "metadata": {},
     "output_type": "execute_result"
    },
    {
     "data": {
      "image/png": "[encoded data removed]",
      "text/plain": [
       "<Figure size 640x480 with 1 Axes>"
      ]
     },
     "metadata": {},
     "output_type": "display_data"
    }
   ],
   "source": [
    "df[['NumWebPurchases']].boxplot()"
   ]
  },
  {
   "cell_type": "code",
   "execution_count": null,
   "id": "4a872e46",
   "metadata": {},
   "outputs": [],
   "source": [
    "df15 = df.to_csv('')"
   ]
  },
  {
   "cell_type": "code",
   "execution_count": null,
   "id": "5647502b",
   "metadata": {},
   "outputs": [],
   "source": []
  }
 ],
 "metadata": {
  "kernelspec": {
   "display_name": "Python 3 (ipykernel)",
   "language": "python",
   "name": "python3"
  },
  "language_info": {
   "codemirror_mode": {
    "name": "ipython",
    "version": 3
   },
   "file_extension": ".py",
   "mimetype": "text/x-python",
   "name": "python",
   "nbconvert_exporter": "python",
   "pygments_lexer": "ipython3",
   "version": "3.11.4"
  }
 },
 "nbformat": 4,
 "nbformat_minor": 5
}
